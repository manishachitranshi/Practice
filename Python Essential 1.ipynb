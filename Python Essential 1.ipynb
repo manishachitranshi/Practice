{
 "cells": [
  {
   "cell_type": "markdown",
   "id": "5573a58b",
   "metadata": {
    "id": "5573a58b"
   },
   "source": [
    "# What is Jupyter  Notebook\n",
    "* The Jupyter Notebook is an open-source web application that allows data scientists to create and share documents that           integrate live code, equations, computational output, visualizations, and other multimedia resources,\n",
    "\n",
    "* Uses include data cleaning and transformation, numerical simulation, statistical modeling, data visualization, machine         learning, and much more.\n"
   ]
  },
  {
   "cell_type": "markdown",
   "id": "1c454286",
   "metadata": {
    "id": "1c454286"
   },
   "source": [
    "## Tutorial\n",
    "- Interactive\n",
    "- Results/outputs are stored so it is easy to review\n",
    "- Friendly for documentation\n",
    "- No limitation from performance \n",
    "- helpful shortcuts\n",
    "- Industry standard for all data science, ML, AI projects.\n",
    "\n",
    "<p> Extension of jupyter file is ipynb (i python notebook, previous name of Jupyter) </p>\n",
    "\n"
   ]
  },
  {
   "cell_type": "markdown",
   "id": "ec91a308",
   "metadata": {
    "id": "ec91a308"
   },
   "source": [
    "### mode \n",
    "* Green----> edit mode(Enter button)\n",
    "* blue-----> command mode(Esc button)\n"
   ]
  },
  {
   "cell_type": "markdown",
   "id": "cd840a4f",
   "metadata": {
    "id": "cd840a4f"
   },
   "source": [
    "##### Keywords"
   ]
  },
  {
   "cell_type": "raw",
   "id": "68afbcdd",
   "metadata": {
    "id": "62590721"
   },
   "source": [
    "* Keywords in python are reserved words in python and cant be used as identifiers."
   ]
  },
  {
   "cell_type": "code",
   "execution_count": null,
   "id": "0ab1d4b0",
   "metadata": {
    "id": "0ab1d4b0",
    "outputId": "c029da18-5567-4f40-fe03-446d2abacde4",
    "scrolled": true
   },
   "outputs": [],
   "source": [
    "import keyword # built-in module\n",
    "print(keyword.kwlist)  # It will give all keywords of python"
   ]
  },
  {
   "cell_type": "code",
   "execution_count": null,
   "id": "7a9ef08d",
   "metadata": {
    "id": "7a9ef08d",
    "outputId": "6e8a509a-d3fc-4966-cce6-14de5f87b176"
   },
   "outputs": [],
   "source": [
    "# Let's count the number of keywords in kwlist (comment)\n",
    "\n",
    "len(keyword.kwlist) \n"
   ]
  },
  {
   "cell_type": "code",
   "execution_count": null,
   "id": "64ef007e",
   "metadata": {},
   "outputs": [],
   "source": [
    "# Python is case-sensitive\n",
    "a = 4\n",
    "A = 6"
   ]
  },
  {
   "cell_type": "code",
   "execution_count": null,
   "id": "c89f6ad5",
   "metadata": {},
   "outputs": [],
   "source": [
    "A"
   ]
  },
  {
   "cell_type": "markdown",
   "id": "c15e70c8",
   "metadata": {
    "id": "c15e70c8"
   },
   "source": [
    "# Identifiers"
   ]
  },
  {
   "cell_type": "markdown",
   "id": "41911e15",
   "metadata": {
    "id": "41911e15"
   },
   "source": [
    "* An identifier is the name given to entities like functions,variables etc.\n",
    "* It helps in differentiating one entity from other."
   ]
  },
  {
   "cell_type": "code",
   "execution_count": null,
   "id": "55ff03fa",
   "metadata": {},
   "outputs": [],
   "source": [
    "import = 1  # Keywords cannot be used as identifier"
   ]
  },
  {
   "cell_type": "code",
   "execution_count": null,
   "id": "66cb1403",
   "metadata": {
    "id": "66cb1403",
    "outputId": "599c8ae6-6a69-40e2-afc5-186c3b860f70"
   },
   "outputs": [],
   "source": [
    "5a = 34  #identifier can not be initaite with digit."
   ]
  },
  {
   "cell_type": "code",
   "execution_count": null,
   "id": "c100d47b",
   "metadata": {
    "id": "c100d47b",
    "outputId": "da4c6ae8-8de7-4155-e830-15290440fd6a"
   },
   "outputs": [],
   "source": [
    "va!123 ='abc' # Identifer cannot use special symbol "
   ]
  },
  {
   "cell_type": "code",
   "execution_count": null,
   "id": "2bba50bc",
   "metadata": {
    "id": "2bba50bc"
   },
   "outputs": [],
   "source": [
    "\"\"\"\n",
    "Correct way of defining an identifier\n",
    "(Identifiers can be a combination of letters in lowercase (a to z) or uppercase \n",
    "and only special chararcter allowed is _ )\"\"\"\n",
    "\n",
    "big = 1\n",
    "NUM = 5\n",
    "Var = 9\n",
    "var_ = 4\n",
    "v1 = 8\n",
    "va1h = 60\n",
    "\n",
    "# var is entity called as variable which has been created and assigned with value of 1"
   ]
  },
  {
   "cell_type": "code",
   "execution_count": null,
   "id": "d0179f11",
   "metadata": {},
   "outputs": [],
   "source": [
    "$a = 5\n",
    "b = 8"
   ]
  },
  {
   "cell_type": "code",
   "execution_count": null,
   "id": "9e358041",
   "metadata": {},
   "outputs": [],
   "source": [
    "h = 4"
   ]
  },
  {
   "cell_type": "code",
   "execution_count": null,
   "id": "cbb9b642",
   "metadata": {},
   "outputs": [],
   "source": [
    "h"
   ]
  },
  {
   "cell_type": "markdown",
   "id": "97b903b7",
   "metadata": {
    "id": "97b903b7"
   },
   "source": [
    "# Comments"
   ]
  },
  {
   "cell_type": "markdown",
   "id": "d915980a",
   "metadata": {
    "id": "d915980a"
   },
   "source": [
    "- Comments can be used to explain the code for more readabilty.\n"
   ]
  },
  {
   "cell_type": "code",
   "execution_count": null,
   "id": "f546a1a3",
   "metadata": {},
   "outputs": [],
   "source": [
    "# Finding square of a number 5 \n",
    "a = 5**2"
   ]
  },
  {
   "cell_type": "code",
   "execution_count": null,
   "id": "2f772d53",
   "metadata": {
    "id": "2f772d53"
   },
   "outputs": [],
   "source": [
    "# To create a variable, \n",
    "# name it and assign a value\n",
    "# to it. \n",
    "\n",
    "val1 = 10"
   ]
  },
  {
   "cell_type": "code",
   "execution_count": null,
   "id": "3c7db71d",
   "metadata": {},
   "outputs": [],
   "source": [
    "'''This is multiple line\n",
    "comments.\n",
    "This is not \n",
    "code'''\n",
    "\n",
    "val1"
   ]
  },
  {
   "cell_type": "code",
   "execution_count": null,
   "id": "dfc2dab8",
   "metadata": {},
   "outputs": [],
   "source": [
    "\"\"\"iugdwiudgshsigc\n",
    "sgdfcisduhdsux\n",
    "uwfdgsyus\n",
    "yttfdyugsd\"\"\"\n",
    "\n",
    "val1"
   ]
  },
  {
   "cell_type": "markdown",
   "id": "a76869bd",
   "metadata": {
    "id": "a76869bd"
   },
   "source": [
    "# Statements"
   ]
  },
  {
   "cell_type": "markdown",
   "id": "8bf438c4",
   "metadata": {
    "id": "8bf438c4"
   },
   "source": [
    "* Instructions that a Python interpreter can execute."
   ]
  },
  {
   "cell_type": "code",
   "execution_count": null,
   "id": "49b580e9",
   "metadata": {
    "id": "49b580e9"
   },
   "outputs": [],
   "source": [
    "# Single line statement\n",
    "p2 = ['a' , 'b' , 'c' , 'd']\n"
   ]
  },
  {
   "cell_type": "code",
   "execution_count": null,
   "id": "fa707e33",
   "metadata": {},
   "outputs": [],
   "source": [
    "p2"
   ]
  },
  {
   "cell_type": "code",
   "execution_count": null,
   "id": "0465af83",
   "metadata": {
    "colab": {
     "base_uri": "https://localhost:8080/"
    },
    "executionInfo": {
     "elapsed": 7,
     "status": "ok",
     "timestamp": 1652331793514,
     "user": {
      "displayName": "Rohan Ravindra Sohani",
      "userId": "06993368347103045844"
     },
     "user_tz": -330
    },
    "id": "0465af83",
    "outputId": "6ace23ed-38da-471e-db6a-b7f8fb32dfa2"
   },
   "outputs": [],
   "source": [
    "# Multiple line statement\n",
    "p1 = 20 + 30 + 40+ 50 + 70 + 80 + 45 +67 + 45+56 +78+89 +90 +45+34+23\\\n",
    "     +2+34+21+32+54 + 34  +56 + 78+45 +34+78 +90+34+23+23+56+50+6"
   ]
  },
  {
   "cell_type": "markdown",
   "id": "a48922a0",
   "metadata": {
    "id": "a48922a0"
   },
   "source": [
    "# Variables"
   ]
  },
  {
   "cell_type": "markdown",
   "id": "33961071",
   "metadata": {
    "id": "33961071"
   },
   "source": [
    "*  A Python variable is a reserved memory location to store values.\n",
    "* A variable is created the moment you first assign a value to it.\n"
   ]
  },
  {
   "cell_type": "code",
   "execution_count": null,
   "id": "85427289",
   "metadata": {
    "id": "85427289"
   },
   "outputs": [],
   "source": [
    "#### variable creation\n",
    "A = 'kalpana'\n",
    "B = 6\n",
    "C = 8.2\n",
    "d = True"
   ]
  },
  {
   "cell_type": "code",
   "execution_count": null,
   "id": "3670495c",
   "metadata": {},
   "outputs": [],
   "source": [
    "B # calling of variable"
   ]
  },
  {
   "cell_type": "code",
   "execution_count": null,
   "id": "c694559d",
   "metadata": {},
   "outputs": [],
   "source": [
    "B = 90.8"
   ]
  },
  {
   "cell_type": "code",
   "execution_count": null,
   "id": "4a657326",
   "metadata": {},
   "outputs": [],
   "source": [
    "%who # tells what all variables we have created so far"
   ]
  },
  {
   "cell_type": "code",
   "execution_count": null,
   "id": "c3c67e7b",
   "metadata": {},
   "outputs": [],
   "source": [
    "A\n",
    "B"
   ]
  },
  {
   "cell_type": "code",
   "execution_count": null,
   "id": "fd3cbba9",
   "metadata": {},
   "outputs": [],
   "source": [
    "print(A) # print the variable\n",
    "print(B) # passing a variable\n",
    "print('kalpana') # passing a string value"
   ]
  },
  {
   "cell_type": "code",
   "execution_count": null,
   "id": "5fbea58f",
   "metadata": {},
   "outputs": [],
   "source": [
    "# Creating a variable\n",
    "k=10"
   ]
  },
  {
   "cell_type": "code",
   "execution_count": null,
   "id": "60a05e6b",
   "metadata": {},
   "outputs": [],
   "source": [
    "k"
   ]
  },
  {
   "cell_type": "code",
   "execution_count": null,
   "id": "9c2fdbda",
   "metadata": {
    "id": "9c2fdbda"
   },
   "outputs": [],
   "source": [
    "'''\n",
    "id() function returns the “identity” of the object. \n",
    "The identity of an object - Is an integer\n",
    " - Guaranteed to be unique\n",
    " - Constant for this object during its lifetime. \n",
    "'''\n",
    "id(k)"
   ]
  },
  {
   "cell_type": "code",
   "execution_count": null,
   "id": "47a6eac0",
   "metadata": {
    "id": "dc5abf36"
   },
   "outputs": [],
   "source": [
    "p=20   \n",
    "q=20\n",
    "r=q"
   ]
  },
  {
   "cell_type": "code",
   "execution_count": null,
   "id": "83df4005",
   "metadata": {},
   "outputs": [],
   "source": [
    "q"
   ]
  },
  {
   "cell_type": "code",
   "execution_count": null,
   "id": "68ad7900",
   "metadata": {},
   "outputs": [],
   "source": [
    "print(id(p))\n",
    "print(id(q))\n",
    "print(id(r))"
   ]
  },
  {
   "cell_type": "markdown",
   "id": "c4e3a2d2",
   "metadata": {
    "id": "c4e3a2d2"
   },
   "source": [
    "# Variable Assignment"
   ]
  },
  {
   "cell_type": "code",
   "execution_count": null,
   "id": "f741d376",
   "metadata": {
    "id": "f741d376"
   },
   "outputs": [],
   "source": [
    "h = 48 # Integer variable - whole number\n",
    "t1 = 5.5 # Float Variable\n",
    "f = \"Python Language\" # String variable\n",
    "g = True # boolean variable\n",
    "\n",
    "print(h)\n",
    "print(t1)\n",
    "print(f)"
   ]
  },
  {
   "cell_type": "markdown",
   "id": "aff84426",
   "metadata": {
    "id": "aff84426"
   },
   "source": [
    "### Multiple Assignment"
   ]
  },
  {
   "cell_type": "code",
   "execution_count": null,
   "id": "d4683b2a",
   "metadata": {
    "id": "d4683b2a",
    "scrolled": true
   },
   "outputs": [],
   "source": [
    "intvar , floatvar , strvar = 10,2.57,\"Python Language\"  \n",
    "# Using commas to separate variables\n",
    "print(intvar)\n",
    "print(floatvar)\n",
    "print(strvar)"
   ]
  },
  {
   "cell_type": "code",
   "execution_count": null,
   "id": "1644ff55",
   "metadata": {
    "id": "1644ff55",
    "scrolled": true
   },
   "outputs": [],
   "source": [
    "p1 = p2 = p3 = p4 = 44 \n",
    "# All variables pointing to same value\n",
    "print(p1,p2,p3,p4)"
   ]
  },
  {
   "cell_type": "markdown",
   "id": "37f99688",
   "metadata": {
    "id": "37f99688"
   },
   "source": [
    "# Data Types"
   ]
  },
  {
   "cell_type": "markdown",
   "id": "5a9a8cd3",
   "metadata": {
    "id": "5a9a8cd3"
   },
   "source": [
    "## Numeric "
   ]
  },
  {
   "cell_type": "code",
   "execution_count": null,
   "id": "cda1f0a2",
   "metadata": {},
   "outputs": [],
   "source": [
    "n = 4+6j"
   ]
  },
  {
   "cell_type": "code",
   "execution_count": null,
   "id": "0805eac6",
   "metadata": {},
   "outputs": [],
   "source": [
    "# integer, float, boolean, complex, string"
   ]
  },
  {
   "cell_type": "code",
   "execution_count": null,
   "id": "7602ac3d",
   "metadata": {},
   "outputs": [],
   "source": [
    "# int, float, bool, complex, str"
   ]
  },
  {
   "cell_type": "code",
   "execution_count": null,
   "id": "3217d802",
   "metadata": {},
   "outputs": [],
   "source": [
    "# it allows you to interact with Python interpreter and operating system environment\n",
    "# provides functions for system-related functionality\n",
    "import sys"
   ]
  },
  {
   "cell_type": "code",
   "execution_count": null,
   "id": "7515e270",
   "metadata": {
    "id": "7515e270"
   },
   "outputs": [],
   "source": [
    "val1 = 10 # Integer data type type()\n",
    "\n",
    "print(val1)\n",
    "print(type(val1)) # type of object\n",
    "print(sys.getsizeof(val1)) # size of integer object in bytes \n",
    "print(val1, \" is Float?\", isinstance(val1, str)) # checks if an object belongs to a specific class\n",
    "print(isinstance(val1, int))"
   ]
  },
  {
   "cell_type": "code",
   "execution_count": null,
   "id": "2fa04823",
   "metadata": {
    "id": "2fa04823"
   },
   "outputs": [],
   "source": [
    "val2 = 92.78 # Float data type\n",
    "print(val2)\n",
    "print(type(val2)) # type of object\n",
    "print(sys.getsizeof(val2)) # size of float object in bytes\n",
    "print(val2, \" is float?\", isinstance(val2, float)) # Val2 is an instance of float"
   ]
  },
  {
   "cell_type": "code",
   "execution_count": null,
   "id": "61eda00f",
   "metadata": {
    "id": "61eda00f"
   },
   "outputs": [],
   "source": [
    "val3 = 25 + 10j # Complex data type"
   ]
  },
  {
   "cell_type": "code",
   "execution_count": null,
   "id": "bb0072c6",
   "metadata": {},
   "outputs": [],
   "source": [
    "val3"
   ]
  },
  {
   "cell_type": "code",
   "execution_count": null,
   "id": "47e04051",
   "metadata": {},
   "outputs": [],
   "source": [
    "type(val3)"
   ]
  },
  {
   "cell_type": "code",
   "execution_count": null,
   "id": "7d9fc356",
   "metadata": {},
   "outputs": [],
   "source": [
    "sys.getsizeof(val3)"
   ]
  },
  {
   "cell_type": "code",
   "execution_count": null,
   "id": "baf5fff9",
   "metadata": {},
   "outputs": [],
   "source": [
    "isinstance(val3,complex)"
   ]
  },
  {
   "cell_type": "markdown",
   "id": "ebae8cdb",
   "metadata": {},
   "source": [
    "# Boolean"
   ]
  },
  {
   "cell_type": "markdown",
   "id": "807bb3c7",
   "metadata": {
    "id": "807bb3c7"
   },
   "source": [
    "* Boolean data type can have only two possible values true or false."
   ]
  },
  {
   "cell_type": "code",
   "execution_count": null,
   "id": "052cf431",
   "metadata": {
    "executionInfo": {
     "elapsed": 406,
     "status": "ok",
     "timestamp": 1652354518753,
     "user": {
      "displayName": "Rohan Ravindra Sohani",
      "userId": "06993368347103045844"
     },
     "user_tz": -330
    },
    "id": "052cf431"
   },
   "outputs": [],
   "source": [
    "b1= True  # 1"
   ]
  },
  {
   "cell_type": "code",
   "execution_count": null,
   "id": "9cb97c89",
   "metadata": {
    "id": "9cb97c89"
   },
   "outputs": [],
   "source": [
    "b2= False # 0"
   ]
  },
  {
   "cell_type": "code",
   "execution_count": null,
   "id": "0f453174",
   "metadata": {
    "colab": {
     "base_uri": "https://localhost:8080/"
    },
    "executionInfo": {
     "elapsed": 491,
     "status": "ok",
     "timestamp": 1652354522677,
     "user": {
      "displayName": "Rohan Ravindra Sohani",
      "userId": "06993368347103045844"
     },
     "user_tz": -330
    },
    "id": "0f453174",
    "outputId": "d08bf352-9ebe-452c-ecf2-ffc26ab877df"
   },
   "outputs": [],
   "source": [
    "type(b1)"
   ]
  },
  {
   "cell_type": "code",
   "execution_count": null,
   "id": "6211346a",
   "metadata": {
    "colab": {
     "base_uri": "https://localhost:8080/"
    },
    "executionInfo": {
     "elapsed": 516,
     "status": "ok",
     "timestamp": 1652354526023,
     "user": {
      "displayName": "Rohan Ravindra Sohani",
      "userId": "06993368347103045844"
     },
     "user_tz": -330
    },
    "id": "6211346a",
    "outputId": "4bb76670-6652-4e52-820e-528a690347c5"
   },
   "outputs": [],
   "source": [
    "isinstance(b1, int)"
   ]
  },
  {
   "cell_type": "code",
   "execution_count": null,
   "id": "12067e8d",
   "metadata": {},
   "outputs": [],
   "source": [
    "isinstance(b1, bool)"
   ]
  },
  {
   "cell_type": "code",
   "execution_count": null,
   "id": "6bc159e4",
   "metadata": {},
   "outputs": [],
   "source": [
    "isinstance(b1, float)"
   ]
  },
  {
   "cell_type": "code",
   "execution_count": null,
   "id": "01ee5e17",
   "metadata": {},
   "outputs": [],
   "source": [
    "a = '5' \n",
    "type(a)"
   ]
  },
  {
   "cell_type": "markdown",
   "id": "b40a9db7",
   "metadata": {
    "id": "b40a9db7"
   },
   "source": [
    "## String"
   ]
  },
  {
   "cell_type": "markdown",
   "id": "6580adac",
   "metadata": {
    "id": "6580adac"
   },
   "source": [
    "###  String creation"
   ]
  },
  {
   "cell_type": "code",
   "execution_count": null,
   "id": "060d3c98",
   "metadata": {},
   "outputs": [],
   "source": [
    "kalpana = 6 # kalpana is a variable\n",
    "\n",
    "name = 'kalpana' # kalpana is a value\n",
    "\n",
    "num = kalpana"
   ]
  },
  {
   "cell_type": "code",
   "execution_count": null,
   "id": "84590871",
   "metadata": {},
   "outputs": [],
   "source": [
    "a = \"1\"\n",
    "type(a)"
   ]
  },
  {
   "cell_type": "code",
   "execution_count": null,
   "id": "34012e79",
   "metadata": {
    "colab": {
     "base_uri": "https://localhost:8080/"
    },
    "executionInfo": {
     "elapsed": 359,
     "status": "ok",
     "timestamp": 1652332620618,
     "user": {
      "displayName": "Rohan Ravindra Sohani",
      "userId": "06993368347103045844"
     },
     "user_tz": -330
    },
    "id": "34012e79",
    "outputId": "7e13484a-5150-48b3-d7cd-b997a97ecdeb"
   },
   "outputs": [],
   "source": [
    "mystr = 'Hello World 1' # Define string using single quotes\n",
    "print(mystr)"
   ]
  },
  {
   "cell_type": "code",
   "execution_count": null,
   "id": "26f82b28",
   "metadata": {},
   "outputs": [],
   "source": [
    "len(mystr)"
   ]
  },
  {
   "cell_type": "code",
   "execution_count": null,
   "id": "23573baf",
   "metadata": {},
   "outputs": [],
   "source": [
    "type(mystr)"
   ]
  },
  {
   "cell_type": "markdown",
   "id": "21e9ae35",
   "metadata": {
    "id": "21e9ae35"
   },
   "source": [
    "### String indexing"
   ]
  },
  {
   "cell_type": "code",
   "execution_count": null,
   "id": "cd4091f8",
   "metadata": {
    "id": "cd4091f8",
    "scrolled": true
   },
   "outputs": [],
   "source": [
    "str1='HELLO PYTHON'"
   ]
  },
  {
   "cell_type": "code",
   "execution_count": null,
   "id": "83bd7c74",
   "metadata": {},
   "outputs": [],
   "source": [
    "len(str1)"
   ]
  },
  {
   "cell_type": "code",
   "execution_count": null,
   "id": "0ed2ab69",
   "metadata": {},
   "outputs": [],
   "source": [
    "str1[11]"
   ]
  },
  {
   "cell_type": "code",
   "execution_count": null,
   "id": "cb743274",
   "metadata": {},
   "outputs": [],
   "source": [
    "str1[len(str1)-2]"
   ]
  },
  {
   "cell_type": "code",
   "execution_count": null,
   "id": "45817a4f",
   "metadata": {},
   "outputs": [],
   "source": [
    "str1[-1]"
   ]
  },
  {
   "cell_type": "code",
   "execution_count": null,
   "id": "ba7293e7",
   "metadata": {},
   "outputs": [],
   "source": [
    "str2 =  7"
   ]
  },
  {
   "cell_type": "code",
   "execution_count": null,
   "id": "67fe9893",
   "metadata": {},
   "outputs": [],
   "source": [
    "str2"
   ]
  },
  {
   "cell_type": "code",
   "execution_count": null,
   "id": "3b241efa",
   "metadata": {},
   "outputs": [],
   "source": [
    "str1[1]"
   ]
  },
  {
   "cell_type": "code",
   "execution_count": null,
   "id": "bb12a213",
   "metadata": {
    "colab": {
     "base_uri": "https://localhost:8080/",
     "height": 35
    },
    "executionInfo": {
     "elapsed": 407,
     "status": "ok",
     "timestamp": 1652332630070,
     "user": {
      "displayName": "Rohan Ravindra Sohani",
      "userId": "06993368347103045844"
     },
     "user_tz": -330
    },
    "id": "bb12a213",
    "outputId": "8bfafe5a-93f1-4378-f0f0-e8f174066223"
   },
   "outputs": [],
   "source": [
    "str1[0] # First character in string \"str1\""
   ]
  },
  {
   "cell_type": "code",
   "execution_count": null,
   "id": "d2ed552a",
   "metadata": {},
   "outputs": [],
   "source": [
    "str1[-1]"
   ]
  },
  {
   "cell_type": "code",
   "execution_count": null,
   "id": "67989a34",
   "metadata": {},
   "outputs": [],
   "source": [
    "str1[len(str1)-1]"
   ]
  },
  {
   "cell_type": "code",
   "execution_count": null,
   "id": "dfa2f056",
   "metadata": {},
   "outputs": [],
   "source": [
    "str1[-12]"
   ]
  },
  {
   "cell_type": "code",
   "execution_count": null,
   "id": "1c2fa0f3",
   "metadata": {},
   "outputs": [],
   "source": [
    "str1"
   ]
  },
  {
   "cell_type": "code",
   "execution_count": null,
   "id": "dead0eea",
   "metadata": {},
   "outputs": [],
   "source": [
    "str1[-7]"
   ]
  },
  {
   "cell_type": "code",
   "execution_count": null,
   "id": "123531e7",
   "metadata": {
    "id": "123531e7"
   },
   "outputs": [],
   "source": [
    "str1[8] #Fetch 7th element of the string"
   ]
  },
  {
   "cell_type": "markdown",
   "id": "617e14ce",
   "metadata": {
    "id": "617e14ce"
   },
   "source": [
    "### String Slicing"
   ]
  },
  {
   "cell_type": "code",
   "execution_count": null,
   "id": "03b4199e",
   "metadata": {},
   "outputs": [],
   "source": [
    "str1='HELLO PYTHON'"
   ]
  },
  {
   "cell_type": "code",
   "execution_count": null,
   "id": "803eef0b",
   "metadata": {
    "colab": {
     "base_uri": "https://localhost:8080/",
     "height": 35
    },
    "executionInfo": {
     "elapsed": 379,
     "status": "ok",
     "timestamp": 1652332761355,
     "user": {
      "displayName": "Rohan Ravindra Sohani",
      "userId": "06993368347103045844"
     },
     "user_tz": -330
    },
    "id": "803eef0b",
    "outputId": "ef2e19e3-b96b-45eb-fca7-1d24d28d184c"
   },
   "outputs": [],
   "source": [
    "str1"
   ]
  },
  {
   "cell_type": "code",
   "execution_count": null,
   "id": "b895bc56",
   "metadata": {},
   "outputs": [],
   "source": [
    "0 1 2 3 4 5 6 7 8 9 10 11"
   ]
  },
  {
   "cell_type": "code",
   "execution_count": null,
   "id": "27ec5420",
   "metadata": {},
   "outputs": [],
   "source": [
    "# +ve step ---> forward\n",
    "# -ve step ---> backwards"
   ]
  },
  {
   "cell_type": "code",
   "execution_count": null,
   "id": "a2211d71",
   "metadata": {},
   "outputs": [],
   "source": [
    "str1"
   ]
  },
  {
   "cell_type": "code",
   "execution_count": null,
   "id": "2fe28bdd",
   "metadata": {},
   "outputs": [],
   "source": [
    "str1[2:6]"
   ]
  },
  {
   "cell_type": "code",
   "execution_count": null,
   "id": "5833c298",
   "metadata": {},
   "outputs": [],
   "source": [
    "str1[3:8:2]  # "
   ]
  },
  {
   "cell_type": "code",
   "execution_count": null,
   "id": "17435298",
   "metadata": {},
   "outputs": [],
   "source": [
    "str1[1:11:3]"
   ]
  },
  {
   "cell_type": "code",
   "execution_count": null,
   "id": "91c6e290",
   "metadata": {},
   "outputs": [],
   "source": [
    "str1[-12:-7]"
   ]
  },
  {
   "cell_type": "code",
   "execution_count": null,
   "id": "82038dc7",
   "metadata": {},
   "outputs": [],
   "source": [
    "str1[11:5:-1]"
   ]
  },
  {
   "cell_type": "code",
   "execution_count": null,
   "id": "a91d1611",
   "metadata": {},
   "outputs": [],
   "source": [
    "str1[-1:-7:-1]"
   ]
  },
  {
   "cell_type": "code",
   "execution_count": null,
   "id": "5654ae46",
   "metadata": {},
   "outputs": [],
   "source": [
    "HELLO PYTHON"
   ]
  },
  {
   "cell_type": "code",
   "execution_count": null,
   "id": "304d9d4a",
   "metadata": {},
   "outputs": [],
   "source": [
    "str1[:3]"
   ]
  },
  {
   "cell_type": "code",
   "execution_count": null,
   "id": "2f6448f2",
   "metadata": {},
   "outputs": [],
   "source": [
    "str1[7:]"
   ]
  },
  {
   "cell_type": "code",
   "execution_count": null,
   "id": "86e215ec",
   "metadata": {},
   "outputs": [],
   "source": [
    "str1[:]"
   ]
  },
  {
   "cell_type": "code",
   "execution_count": null,
   "id": "29f0e5ce",
   "metadata": {},
   "outputs": [],
   "source": [
    "str1[::-2]"
   ]
  },
  {
   "cell_type": "code",
   "execution_count": null,
   "id": "0882fb00",
   "metadata": {
    "executionInfo": {
     "elapsed": 362,
     "status": "ok",
     "timestamp": 1652332802433,
     "user": {
      "displayName": "Rohan Ravindra Sohani",
      "userId": "06993368347103045844"
     },
     "user_tz": -330
    },
    "id": "0882fb00"
   },
   "outputs": [],
   "source": [
    "str2='Data is new fuel'\n",
    "# Task:-Extract new and Data from above string"
   ]
  },
  {
   "cell_type": "code",
   "execution_count": null,
   "id": "ce9e3cf5",
   "metadata": {},
   "outputs": [],
   "source": [
    "# new\n",
    "str2[8:11]"
   ]
  },
  {
   "cell_type": "code",
   "execution_count": null,
   "id": "6974413a",
   "metadata": {},
   "outputs": [],
   "source": [
    "# Data\n",
    "str2[:4]"
   ]
  },
  {
   "cell_type": "markdown",
   "id": "26ea1f22",
   "metadata": {
    "id": "26ea1f22"
   },
   "source": [
    "### Update and Delete string"
   ]
  },
  {
   "cell_type": "markdown",
   "id": "8be8dec6",
   "metadata": {
    "id": "8be8dec6"
   },
   "source": [
    "* Strings are immutable which means elements of a\n",
    "string cannot be changed once the they are assigned with\n",
    "any values\n"
   ]
  },
  {
   "cell_type": "code",
   "execution_count": null,
   "id": "b48e5be5",
   "metadata": {
    "colab": {
     "base_uri": "https://localhost:8080/",
     "height": 35
    },
    "executionInfo": {
     "elapsed": 375,
     "status": "ok",
     "timestamp": 1652333659162,
     "user": {
      "displayName": "Rohan Ravindra Sohani",
      "userId": "06993368347103045844"
     },
     "user_tz": -330
    },
    "id": "b48e5be5",
    "outputId": "f8f4a315-df4a-400f-bd1b-db504b7fa72c"
   },
   "outputs": [],
   "source": [
    "str1  = 'HELLR PYTHRN'\n",
    "#'HELLO EVERYONE'"
   ]
  },
  {
   "cell_type": "code",
   "execution_count": null,
   "id": "da10c08a",
   "metadata": {},
   "outputs": [],
   "source": [
    "str1"
   ]
  },
  {
   "cell_type": "code",
   "execution_count": null,
   "id": "34492249",
   "metadata": {},
   "outputs": [],
   "source": [
    "# string is immutable (you cannot modify a string)"
   ]
  },
  {
   "cell_type": "code",
   "execution_count": null,
   "id": "67aec6de",
   "metadata": {
    "id": "67aec6de"
   },
   "outputs": [],
   "source": [
    "str1[6:]='EVERYONE' # from change He into HI "
   ]
  },
  {
   "cell_type": "code",
   "execution_count": null,
   "id": "ee014a99",
   "metadata": {},
   "outputs": [],
   "source": [
    "del str1"
   ]
  },
  {
   "cell_type": "code",
   "execution_count": null,
   "id": "2d50b632",
   "metadata": {},
   "outputs": [],
   "source": [
    "str1"
   ]
  },
  {
   "cell_type": "code",
   "execution_count": null,
   "id": "23c958e1",
   "metadata": {},
   "outputs": [],
   "source": [
    "str1.replace('R','O') \n",
    "# string.replace('character to replace','by what value \n",
    "#the character should be replaced')\n"
   ]
  },
  {
   "cell_type": "code",
   "execution_count": null,
   "id": "7270383d",
   "metadata": {},
   "outputs": [],
   "source": [
    "str1"
   ]
  },
  {
   "cell_type": "code",
   "execution_count": null,
   "id": "a60e47cf",
   "metadata": {},
   "outputs": [],
   "source": [
    "a = 'hi hello'\n",
    "a = a.replace('h', 'm') # 'mi mello'"
   ]
  },
  {
   "cell_type": "code",
   "execution_count": null,
   "id": "3a9bf15f",
   "metadata": {},
   "outputs": [],
   "source": [
    "a"
   ]
  },
  {
   "cell_type": "code",
   "execution_count": null,
   "id": "a7a53b54",
   "metadata": {},
   "outputs": [],
   "source": [
    "str1"
   ]
  },
  {
   "cell_type": "code",
   "execution_count": null,
   "id": "14da5e50",
   "metadata": {
    "executionInfo": {
     "elapsed": 360,
     "status": "ok",
     "timestamp": 1652333713505,
     "user": {
      "displayName": "Rohan Ravindra Sohani",
      "userId": "06993368347103045844"
     },
     "user_tz": -330
    },
    "id": "14da5e50",
    "scrolled": true
   },
   "outputs": [],
   "source": [
    "del str1 # Delete a string"
   ]
  },
  {
   "cell_type": "code",
   "execution_count": null,
   "id": "1500df89",
   "metadata": {
    "id": "1500df89"
   },
   "outputs": [],
   "source": [
    "str1"
   ]
  },
  {
   "cell_type": "code",
   "execution_count": null,
   "id": "f7d01e5d",
   "metadata": {},
   "outputs": [],
   "source": [
    "str1 = 'HELLR PYTHRN'\n",
    "d = str1.replace('R', 'O')\n",
    "print(str1)"
   ]
  },
  {
   "cell_type": "markdown",
   "id": "b5b59f30",
   "metadata": {
    "id": "b5b59f30"
   },
   "source": [
    "### String concatenation\n"
   ]
  },
  {
   "cell_type": "code",
   "execution_count": null,
   "id": "26b30080",
   "metadata": {},
   "outputs": [],
   "source": [
    "2+5"
   ]
  },
  {
   "cell_type": "code",
   "execution_count": null,
   "id": "4c2cc25b",
   "metadata": {
    "executionInfo": {
     "elapsed": 392,
     "status": "ok",
     "timestamp": 1652333742007,
     "user": {
      "displayName": "Rohan Ravindra Sohani",
      "userId": "06993368347103045844"
     },
     "user_tz": -330
    },
    "id": "4c2cc25b"
   },
   "outputs": [],
   "source": [
    "#  String concatenation - joining\n",
    "s1 = \"Data\" \n",
    "s2 = \"Science\"\n",
    "s3= s1 + s2"
   ]
  },
  {
   "cell_type": "code",
   "execution_count": null,
   "id": "e371f77c",
   "metadata": {},
   "outputs": [],
   "source": [
    "s3"
   ]
  },
  {
   "cell_type": "code",
   "execution_count": null,
   "id": "89fe4a72",
   "metadata": {},
   "outputs": [],
   "source": [
    "\"data\"+\" \"+'science'"
   ]
  },
  {
   "cell_type": "code",
   "execution_count": null,
   "id": "b9a1bc0e",
   "metadata": {
    "id": "b9a1bc0e"
   },
   "outputs": [],
   "source": [
    "#  String concatenation\n",
    "s1 = \"Data\"\n",
    "s2 = \"Science\"\n",
    "s3 = s1 +' '+ s2+ \" team\"\n",
    "s3"
   ]
  },
  {
   "cell_type": "markdown",
   "id": "96a22aa5",
   "metadata": {},
   "source": [
    "# Heading\n",
    "<u> Plain text </u>"
   ]
  },
  {
   "cell_type": "markdown",
   "id": "7b1f3379",
   "metadata": {
    "id": "7b1f3379"
   },
   "source": [
    "### String Membership"
   ]
  },
  {
   "cell_type": "code",
   "execution_count": null,
   "id": "86d2b79a",
   "metadata": {
    "executionInfo": {
     "elapsed": 4,
     "status": "ok",
     "timestamp": 1652334955015,
     "user": {
      "displayName": "Rohan Ravindra Sohani",
      "userId": "06993368347103045844"
     },
     "user_tz": -330
    },
    "id": "86d2b79a"
   },
   "outputs": [],
   "source": [
    "# String membership\n",
    "mystr1 = \"Hello Everyone\""
   ]
  },
  {
   "cell_type": "code",
   "execution_count": null,
   "id": "a740b428",
   "metadata": {},
   "outputs": [],
   "source": [
    "# 'in' returns boolean"
   ]
  },
  {
   "cell_type": "code",
   "execution_count": null,
   "id": "06d720af",
   "metadata": {},
   "outputs": [],
   "source": [
    "'he' in mystr1"
   ]
  },
  {
   "cell_type": "code",
   "execution_count": null,
   "id": "073089bb",
   "metadata": {
    "id": "073089bb"
   },
   "outputs": [],
   "source": [
    "'Hello' in mystr1 # Check whether \n",
    "#substring \"Hello\" is present in given string \n",
    "# boolean output"
   ]
  },
  {
   "cell_type": "markdown",
   "id": "8c3d4fc9",
   "metadata": {
    "id": "8c3d4fc9"
   },
   "source": [
    "### String Functions"
   ]
  },
  {
   "cell_type": "markdown",
   "id": "8ece4e99",
   "metadata": {
    "id": "8ece4e99"
   },
   "source": [
    "##### String Partioning"
   ]
  },
  {
   "cell_type": "code",
   "execution_count": null,
   "id": "0ba08747",
   "metadata": {
    "executionInfo": {
     "elapsed": 454,
     "status": "ok",
     "timestamp": 1652335083127,
     "user": {
      "displayName": "Rohan Ravindra Sohani",
      "userId": "06993368347103045844"
     },
     "user_tz": -330
    },
    "id": "0ba08747"
   },
   "outputs": [],
   "source": [
    "\"\"\"\n",
    "The partition() method searches for a specified string and splits the string into\n",
    " - The first element contains the part before the argument string.\n",
    " - The second element contains the argument string.\n",
    " - The third element contains the part after the argument string.\n",
    "\"\"\"\n",
    "\n",
    "str5 = \"Natural language processing with Python and R and Java\"\n",
    "\n",
    "L = str5.partition('Java') # returns tuple\n",
    "L"
   ]
  },
  {
   "cell_type": "code",
   "execution_count": null,
   "id": "bad7ec78",
   "metadata": {},
   "outputs": [],
   "source": [
    "type(L)"
   ]
  },
  {
   "cell_type": "code",
   "execution_count": null,
   "id": "be81f2fa",
   "metadata": {
    "id": "be81f2fa"
   },
   "outputs": [],
   "source": [
    "mystr2 = \" Hello Everyone \"\n",
    "mystr2"
   ]
  },
  {
   "cell_type": "code",
   "execution_count": null,
   "id": "3855fdc1",
   "metadata": {},
   "outputs": [],
   "source": [
    "# count\n",
    "mystr2.count('el') ## count the number of occurence of given substring in given string"
   ]
  },
  {
   "cell_type": "code",
   "execution_count": null,
   "id": "6e52d5b9",
   "metadata": {},
   "outputs": [],
   "source": [
    "mystr2"
   ]
  },
  {
   "cell_type": "code",
   "execution_count": null,
   "id": "e7a3b771",
   "metadata": {
    "id": "e7a3b771"
   },
   "outputs": [],
   "source": [
    "# strip\n",
    "mystr2.strip() # at the beginning and at the end"
   ]
  },
  {
   "cell_type": "code",
   "execution_count": null,
   "id": "822cbd37",
   "metadata": {},
   "outputs": [],
   "source": [
    "mystr2"
   ]
  },
  {
   "cell_type": "code",
   "execution_count": null,
   "id": "adfd0c11",
   "metadata": {
    "id": "adfd0c11",
    "scrolled": true
   },
   "outputs": [],
   "source": [
    "mystr2.rstrip() # Removes all whitespaces at the end of the string"
   ]
  },
  {
   "cell_type": "code",
   "execution_count": null,
   "id": "ddba005e",
   "metadata": {
    "id": "ddba005e",
    "scrolled": true
   },
   "outputs": [],
   "source": [
    "mystr2.lstrip() # Removes all whitespaces at the begining of the string"
   ]
  },
  {
   "cell_type": "code",
   "execution_count": null,
   "id": "c747149b",
   "metadata": {
    "id": "c747149b"
   },
   "outputs": [],
   "source": [
    "mystr2"
   ]
  },
  {
   "cell_type": "code",
   "execution_count": null,
   "id": "b7afef19",
   "metadata": {
    "id": "b7afef19"
   },
   "outputs": [],
   "source": [
    "mystr2 = \"*********Hello Everyone***********All the Best**********\"\n",
    "mystr2"
   ]
  },
  {
   "cell_type": "code",
   "execution_count": null,
   "id": "a4d888a3",
   "metadata": {
    "id": "dbb00304"
   },
   "outputs": [],
   "source": [
    "a = mystr2.strip('*') # Removes all '*' characters from begining \n",
    "#& end of the string\n",
    "a"
   ]
  },
  {
   "cell_type": "code",
   "execution_count": null,
   "id": "445c7f26",
   "metadata": {
    "id": "445c7f26"
   },
   "outputs": [],
   "source": [
    "mystr2.lstrip('*')"
   ]
  },
  {
   "cell_type": "code",
   "execution_count": null,
   "id": "00c4fb83",
   "metadata": {},
   "outputs": [],
   "source": [
    "mystr2.rstrip('*')"
   ]
  },
  {
   "cell_type": "code",
   "execution_count": null,
   "id": "a682d6aa",
   "metadata": {},
   "outputs": [],
   "source": [
    "mystr = \"Hello\""
   ]
  },
  {
   "cell_type": "code",
   "execution_count": null,
   "id": "f06af44d",
   "metadata": {},
   "outputs": [],
   "source": [
    "mystr.strip('He')"
   ]
  },
  {
   "cell_type": "code",
   "execution_count": null,
   "id": "52a9e308",
   "metadata": {},
   "outputs": [],
   "source": [
    "a"
   ]
  },
  {
   "cell_type": "code",
   "execution_count": null,
   "id": "b844536d",
   "metadata": {},
   "outputs": [],
   "source": [
    "a.strip('He')"
   ]
  },
  {
   "cell_type": "code",
   "execution_count": null,
   "id": "af7c9b10",
   "metadata": {
    "id": "af7c9b10"
   },
   "outputs": [],
   "source": [
    "str3='HELLO PYTHONE'"
   ]
  },
  {
   "cell_type": "code",
   "execution_count": null,
   "id": "5df68fb9",
   "metadata": {},
   "outputs": [],
   "source": [
    "str3.strip('HEL')"
   ]
  },
  {
   "cell_type": "code",
   "execution_count": null,
   "id": "356ad67c",
   "metadata": {},
   "outputs": [],
   "source": [
    "str3"
   ]
  },
  {
   "cell_type": "code",
   "execution_count": null,
   "id": "9a08cfda",
   "metadata": {
    "id": "9a08cfda"
   },
   "outputs": [],
   "source": [
    "b = str3.lower() # converts the uppercase into lower case"
   ]
  },
  {
   "cell_type": "code",
   "execution_count": null,
   "id": "2128f00d",
   "metadata": {},
   "outputs": [],
   "source": [
    "b"
   ]
  },
  {
   "cell_type": "code",
   "execution_count": null,
   "id": "c2a468df",
   "metadata": {},
   "outputs": [],
   "source": [
    "mystr5='hello python'"
   ]
  },
  {
   "cell_type": "code",
   "execution_count": null,
   "id": "340e2449",
   "metadata": {
    "id": "340e2449",
    "scrolled": true
   },
   "outputs": [],
   "source": [
    "mystr5.upper()"
   ]
  },
  {
   "cell_type": "code",
   "execution_count": null,
   "id": "96cfef42",
   "metadata": {},
   "outputs": [],
   "source": [
    "mystr5"
   ]
  },
  {
   "cell_type": "code",
   "execution_count": null,
   "id": "fad85656",
   "metadata": {
    "id": "fad85656"
   },
   "outputs": [],
   "source": [
    "mystr5.startswith(\"He\") \n",
    "# Return boolean value True if string starts with \"He\""
   ]
  },
  {
   "cell_type": "code",
   "execution_count": null,
   "id": "6305a0b1",
   "metadata": {
    "id": "6305a0b1"
   },
   "outputs": [],
   "source": [
    "mystr5.endswith(\"thon\") \n",
    "# Return boolean value 'True' if string ends with \"thon\""
   ]
  },
  {
   "cell_type": "code",
   "execution_count": null,
   "id": "f7d7c529",
   "metadata": {
    "id": "f7d7c529"
   },
   "outputs": [],
   "source": [
    "mystr4 = \"one two three four one two two three five five six seven six seven one oneone ten eight ten nine eleven ten ten nine\""
   ]
  },
  {
   "cell_type": "code",
   "execution_count": null,
   "id": "fcb30b96",
   "metadata": {
    "id": "fcb30b96"
   },
   "outputs": [],
   "source": [
    "# split() - returns a list as output\n",
    "\n",
    "# \n",
    "print(mystr4.split())\n",
    "\n",
    "#one|two|three|four|one|two|"
   ]
  },
  {
   "cell_type": "code",
   "execution_count": null,
   "id": "90828b43",
   "metadata": {},
   "outputs": [],
   "source": [
    "st = \"apple banana orange jack apple pineapple banana guava apple banana mango #\""
   ]
  },
  {
   "cell_type": "code",
   "execution_count": null,
   "id": "c3143e66",
   "metadata": {},
   "outputs": [],
   "source": [
    "st.partition('orange') # output - tuple"
   ]
  },
  {
   "cell_type": "code",
   "execution_count": null,
   "id": "b25a79bf",
   "metadata": {},
   "outputs": [],
   "source": [
    "print(st.split('banana'))"
   ]
  },
  {
   "cell_type": "code",
   "execution_count": null,
   "id": "a8c2ae2d",
   "metadata": {
    "id": "a8c2ae2d"
   },
   "outputs": [],
   "source": [
    "print(st.split('#'))"
   ]
  },
  {
   "cell_type": "code",
   "execution_count": null,
   "id": "13d1075d",
   "metadata": {},
   "outputs": [],
   "source": [
    "mystr4 = \"1 2 3 4 5 6 7 1 2 1 3 1 5\"\n",
    "mystr4.split('1')"
   ]
  },
  {
   "cell_type": "code",
   "execution_count": null,
   "id": "867f672e",
   "metadata": {},
   "outputs": [],
   "source": [
    "mystr4.split()"
   ]
  },
  {
   "cell_type": "code",
   "execution_count": null,
   "id": "515c8012",
   "metadata": {},
   "outputs": [],
   "source": [
    "a = 5\n",
    "b = 7"
   ]
  },
  {
   "cell_type": "code",
   "execution_count": null,
   "id": "25257f1c",
   "metadata": {},
   "outputs": [],
   "source": [
    "print(\"the value of a & b is \",a,b) "
   ]
  },
  {
   "cell_type": "code",
   "execution_count": null,
   "id": "f7f9f18d",
   "metadata": {},
   "outputs": [],
   "source": [
    "# the value of a is 5 and b is 7\n",
    "print(\"the value of a is {} and b is {} \".format(a,b))"
   ]
  },
  {
   "cell_type": "code",
   "execution_count": null,
   "id": "280afab0",
   "metadata": {},
   "outputs": [],
   "source": [
    "c = 6\n",
    "print(\"the value of a is {} & b is {} and c is {}. This is my output \".format(a,b,c))"
   ]
  },
  {
   "cell_type": "code",
   "execution_count": null,
   "id": "9d604a57",
   "metadata": {},
   "outputs": [],
   "source": [
    "print(\"the value of a is {} & b is {} and c is {}. This is my output \".format(b,a,c))"
   ]
  },
  {
   "cell_type": "code",
   "execution_count": null,
   "id": "c8038cb9",
   "metadata": {},
   "outputs": [],
   "source": [
    "print(\"the value of a is {0} & b is {1} this is my output. c is {2}, b is {2} {0}\".format(a,b, c)) # a-0, b-1, c-2"
   ]
  },
  {
   "cell_type": "code",
   "execution_count": null,
   "id": "3c84b664",
   "metadata": {},
   "outputs": [],
   "source": [
    "print(\"the value of a is {0} & b is {1} this is my output \".format(a,b))"
   ]
  },
  {
   "cell_type": "code",
   "execution_count": null,
   "id": "7a2e7985",
   "metadata": {},
   "outputs": [],
   "source": [
    "\"a is {}, b is {}, c is {}\".format(a,b,c)"
   ]
  },
  {
   "cell_type": "code",
   "execution_count": null,
   "id": "ff8f5f98",
   "metadata": {
    "id": "ff8f5f98"
   },
   "outputs": [],
   "source": [
    "# Combining string & numbers using format method\n",
    "item1 = 40\n",
    "item2 = 55\n",
    "item3 = 77\n",
    "\"Cost of item1 , item3 and item2 are {0} , {2} and {1}\".format(item1,item2, item3)"
   ]
  },
  {
   "cell_type": "markdown",
   "id": "ed364f92",
   "metadata": {
    "id": "ed364f92"
   },
   "source": [
    "# Typecasting - type conversion"
   ]
  },
  {
   "cell_type": "markdown",
   "id": "1eee6a0d",
   "metadata": {
    "id": "1eee6a0d"
   },
   "source": [
    "* Type Casting is the method to convert the variable data type into a certain data \n",
    "type in order to the operation required to be performed by users.\n",
    "\n",
    "* There are 2 ways in which typecasting is performed.\n",
    "\n",
    "1) Autotypecasting\n",
    "\n",
    "\n",
    "2) Forced Typecasting"
   ]
  },
  {
   "cell_type": "markdown",
   "id": "202310c5",
   "metadata": {
    "id": "202310c5"
   },
   "source": [
    "## Auto Typecasting\n",
    "* The Python interpreter automatically converts one data type to another without any user involvement. "
   ]
  },
  {
   "cell_type": "raw",
   "id": "27713efa",
   "metadata": {},
   "source": [
    "Higher to lower:\n",
    "string\n",
    "complex\n",
    "float\n",
    "integer\n",
    "boolean"
   ]
  },
  {
   "cell_type": "code",
   "execution_count": null,
   "id": "7fe82463",
   "metadata": {},
   "outputs": [],
   "source": [
    "Autotype casting happens - Lower to Higher"
   ]
  },
  {
   "cell_type": "code",
   "execution_count": null,
   "id": "5ae66f4a",
   "metadata": {
    "id": "5ae66f4a"
   },
   "outputs": [],
   "source": [
    "4 + 5.6 + False + True # 4.0 + 5.6 + 0.0 + 1.0"
   ]
  },
  {
   "cell_type": "code",
   "execution_count": null,
   "id": "d2d1107a",
   "metadata": {
    "colab": {
     "base_uri": "https://localhost:8080/",
     "height": 166
    },
    "executionInfo": {
     "elapsed": 8,
     "status": "error",
     "timestamp": 1652354423989,
     "user": {
      "displayName": "Rohan Ravindra Sohani",
      "userId": "06993368347103045844"
     },
     "user_tz": -330
    },
    "id": "d2d1107a",
    "outputId": "d1145384-0b36-470d-c901-9c394cf2fb51"
   },
   "outputs": [],
   "source": [
    "4+3+'data'+6.7"
   ]
  },
  {
   "cell_type": "code",
   "execution_count": null,
   "id": "cfb37510",
   "metadata": {},
   "outputs": [],
   "source": [
    "'data' + 'science'"
   ]
  },
  {
   "cell_type": "code",
   "execution_count": null,
   "id": "d0845254",
   "metadata": {},
   "outputs": [],
   "source": [
    "True+2.57+1+(5 +6j)  # (1+0j) + (2.57+0j) + (1+0j) + (5+6j)"
   ]
  },
  {
   "cell_type": "code",
   "execution_count": null,
   "id": "d272b730",
   "metadata": {
    "colab": {
     "base_uri": "https://localhost:8080/"
    },
    "executionInfo": {
     "elapsed": 423,
     "status": "ok",
     "timestamp": 1652354440364,
     "user": {
      "displayName": "Rohan Ravindra Sohani",
      "userId": "06993368347103045844"
     },
     "user_tz": -330
    },
    "id": "d272b730",
    "outputId": "6a36f544-a031-43b8-e587-1349b3430a80",
    "scrolled": true
   },
   "outputs": [],
   "source": [
    "False + 3 # 0+3"
   ]
  },
  {
   "cell_type": "markdown",
   "id": "86d08aae",
   "metadata": {
    "id": "86d08aae"
   },
   "source": [
    "## Forced Typecasting"
   ]
  },
  {
   "cell_type": "code",
   "execution_count": null,
   "id": "3f39564c",
   "metadata": {},
   "outputs": [],
   "source": [
    " # float(), str(), int(), bool(), complex()"
   ]
  },
  {
   "cell_type": "code",
   "execution_count": null,
   "id": "b15b89bf",
   "metadata": {},
   "outputs": [],
   "source": [
    "int1 = 5"
   ]
  },
  {
   "cell_type": "code",
   "execution_count": null,
   "id": "ed800087",
   "metadata": {},
   "outputs": [],
   "source": [
    "type(int1)"
   ]
  },
  {
   "cell_type": "code",
   "execution_count": null,
   "id": "f45119d3",
   "metadata": {},
   "outputs": [],
   "source": [
    "# int to fl\n",
    "float(int1)"
   ]
  },
  {
   "cell_type": "code",
   "execution_count": null,
   "id": "46e386d9",
   "metadata": {},
   "outputs": [],
   "source": [
    "bool(int1)"
   ]
  },
  {
   "cell_type": "code",
   "execution_count": null,
   "id": "4d87a576",
   "metadata": {},
   "outputs": [],
   "source": [
    "complex(int1)"
   ]
  },
  {
   "cell_type": "code",
   "execution_count": null,
   "id": "50be4ad6",
   "metadata": {},
   "outputs": [],
   "source": [
    "str(int1)"
   ]
  },
  {
   "cell_type": "code",
   "execution_count": null,
   "id": "714c70c9",
   "metadata": {},
   "outputs": [],
   "source": [
    "fl1 = 3.8 # float"
   ]
  },
  {
   "cell_type": "code",
   "execution_count": null,
   "id": "921298bb",
   "metadata": {},
   "outputs": [],
   "source": [
    "int(fl1)"
   ]
  },
  {
   "cell_type": "code",
   "execution_count": null,
   "id": "05bdfaaf",
   "metadata": {},
   "outputs": [],
   "source": [
    "bool(fl1)"
   ]
  },
  {
   "cell_type": "code",
   "execution_count": null,
   "id": "c05599a8",
   "metadata": {},
   "outputs": [],
   "source": [
    "str(fl1)"
   ]
  },
  {
   "cell_type": "code",
   "execution_count": null,
   "id": "8bee8b7b",
   "metadata": {},
   "outputs": [],
   "source": [
    "complex(fl1)"
   ]
  },
  {
   "cell_type": "code",
   "execution_count": null,
   "id": "76fad3df",
   "metadata": {},
   "outputs": [],
   "source": [
    "com = 3+7j\n",
    "type(com)"
   ]
  },
  {
   "cell_type": "code",
   "execution_count": null,
   "id": "2c6a3cb4",
   "metadata": {},
   "outputs": [],
   "source": [
    "int(com)"
   ]
  },
  {
   "cell_type": "code",
   "execution_count": null,
   "id": "477816fa",
   "metadata": {},
   "outputs": [],
   "source": [
    "float(com)"
   ]
  },
  {
   "cell_type": "code",
   "execution_count": null,
   "id": "ba14e6eb",
   "metadata": {},
   "outputs": [],
   "source": [
    "str(com)"
   ]
  },
  {
   "cell_type": "code",
   "execution_count": null,
   "id": "491c4707",
   "metadata": {},
   "outputs": [],
   "source": [
    "bool(com)"
   ]
  },
  {
   "cell_type": "code",
   "execution_count": null,
   "id": "af56a8ec",
   "metadata": {},
   "outputs": [],
   "source": [
    "st = \"hi\"\n"
   ]
  },
  {
   "cell_type": "code",
   "execution_count": null,
   "id": "f1b2bc50",
   "metadata": {},
   "outputs": [],
   "source": [
    "int(st)"
   ]
  },
  {
   "cell_type": "code",
   "execution_count": null,
   "id": "0fbf6e14",
   "metadata": {},
   "outputs": [],
   "source": [
    "float(st)"
   ]
  },
  {
   "cell_type": "code",
   "execution_count": null,
   "id": "c6a91cc9",
   "metadata": {},
   "outputs": [],
   "source": [
    "complex(st)"
   ]
  },
  {
   "cell_type": "code",
   "execution_count": null,
   "id": "f398d29c",
   "metadata": {},
   "outputs": [],
   "source": [
    "bool(st)"
   ]
  },
  {
   "cell_type": "code",
   "execution_count": null,
   "id": "29faa043",
   "metadata": {},
   "outputs": [],
   "source": [
    "st1 = '5'"
   ]
  },
  {
   "cell_type": "code",
   "execution_count": null,
   "id": "fc0e5d2e",
   "metadata": {},
   "outputs": [],
   "source": [
    "bool(st1)"
   ]
  },
  {
   "cell_type": "code",
   "execution_count": null,
   "id": "bce422dd",
   "metadata": {},
   "outputs": [],
   "source": [
    "float(st1)"
   ]
  },
  {
   "cell_type": "code",
   "execution_count": null,
   "id": "654db220",
   "metadata": {},
   "outputs": [],
   "source": [
    "int(st1)"
   ]
  },
  {
   "cell_type": "code",
   "execution_count": null,
   "id": "0be4a499",
   "metadata": {},
   "outputs": [],
   "source": [
    "complex(st1)"
   ]
  },
  {
   "cell_type": "code",
   "execution_count": null,
   "id": "75fe6e9e",
   "metadata": {},
   "outputs": [],
   "source": [
    "st2 = '4.6'"
   ]
  },
  {
   "cell_type": "code",
   "execution_count": null,
   "id": "e1c616d2",
   "metadata": {},
   "outputs": [],
   "source": [
    "float(st2)"
   ]
  },
  {
   "cell_type": "code",
   "execution_count": null,
   "id": "681cc838",
   "metadata": {},
   "outputs": [],
   "source": [
    "int(st2)"
   ]
  },
  {
   "cell_type": "code",
   "execution_count": null,
   "id": "15dba349",
   "metadata": {},
   "outputs": [],
   "source": [
    "a = 0\n",
    "bool(a)"
   ]
  },
  {
   "cell_type": "code",
   "execution_count": null,
   "id": "565c04df",
   "metadata": {},
   "outputs": [],
   "source": [
    "b = '' # string\n",
    "bool(b)"
   ]
  },
  {
   "cell_type": "code",
   "execution_count": null,
   "id": "a01a69b8",
   "metadata": {},
   "outputs": [],
   "source": [
    "# built-in function which for type conversion.\n",
    "\n",
    "int() # converting any datatype to integer\n",
    "bool() # converting any datatype to bool\n",
    "float()\n",
    "str()\n",
    "complex()"
   ]
  },
  {
   "cell_type": "code",
   "execution_count": null,
   "id": "85eff29b",
   "metadata": {
    "id": "85eff29b"
   },
   "outputs": [],
   "source": [
    "# Guess the output\n",
    "int(1.5) + 4 + bool(0) \n",
    "# 1 + 4 + False --> forced typecasting\n",
    "# 1 + 4+ 0 --> autotype casting"
   ]
  },
  {
   "cell_type": "code",
   "execution_count": null,
   "id": "d63dad07",
   "metadata": {},
   "outputs": [],
   "source": [
    "int(5.6)+float(1)+bool(23) \n",
    "# 5 + 1.0 + True\n",
    "# 5.0 + 1.0 + 1.0"
   ]
  },
  {
   "cell_type": "code",
   "execution_count": null,
   "id": "06aee519",
   "metadata": {},
   "outputs": [],
   "source": [
    "int(6.5)+1.2+int(5.5)+ bool(0) \n",
    "# 6 + 1.2 + 5 + False\n",
    "# 6.0 + 1.2 + 5.0 + 0.0"
   ]
  },
  {
   "cell_type": "code",
   "execution_count": null,
   "id": "a8c93b79",
   "metadata": {
    "id": "a8c93b79"
   },
   "outputs": [],
   "source": [
    "str(5)"
   ]
  },
  {
   "cell_type": "code",
   "execution_count": null,
   "id": "62476512",
   "metadata": {
    "id": "62476512"
   },
   "outputs": [],
   "source": [
    "str(9.0)"
   ]
  },
  {
   "cell_type": "code",
   "execution_count": null,
   "id": "434e87de",
   "metadata": {
    "id": "434e87de"
   },
   "outputs": [],
   "source": [
    "str(True)"
   ]
  },
  {
   "cell_type": "code",
   "execution_count": null,
   "id": "25110c49",
   "metadata": {},
   "outputs": [],
   "source": [
    "str(False)"
   ]
  },
  {
   "cell_type": "code",
   "execution_count": null,
   "id": "83bdcfcc",
   "metadata": {},
   "outputs": [],
   "source": [
    "str(4+5j)"
   ]
  },
  {
   "cell_type": "code",
   "execution_count": null,
   "id": "218e7968",
   "metadata": {},
   "outputs": [],
   "source": []
  }
 ],
 "metadata": {
  "colab": {
   "name": "Python Essential 1.ipynb",
   "provenance": []
  },
  "kernelspec": {
   "display_name": "Python 3 (ipykernel)",
   "language": "python",
   "name": "python3"
  },
  "language_info": {
   "codemirror_mode": {
    "name": "ipython",
    "version": 3
   },
   "file_extension": ".py",
   "mimetype": "text/x-python",
   "name": "python",
   "nbconvert_exporter": "python",
   "pygments_lexer": "ipython3",
   "version": "3.11.5"
  }
 },
 "nbformat": 4,
 "nbformat_minor": 5
}
